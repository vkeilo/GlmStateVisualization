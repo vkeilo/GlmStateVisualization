{
 "cells": [
  {
   "attachments": {},
   "cell_type": "markdown",
   "metadata": {},
   "source": [
    "## 翻译任务隐藏状态参数可视化分析"
   ]
  },
  {
   "attachments": {},
   "cell_type": "markdown",
   "metadata": {},
   "source": [
    "#### 数据准备-1：翻译任务准备\n",
    "在这一阶段，我们的准备工作依照以下顺序进行：\n",
    "- 借助`chatgpt4`生成10类翻译任务的`prompt`，以json格式存储于`dialogues/role_prompt.json`文件中（该步骤自行手动完成）\n",
    "- 于`https://tatoeba.org/zh-cn/downloads`下载由`tatoeba`以及全球志愿者提供的中英翻译对照文本数据，保存为`datas/en_ch_trans_data`（该步骤自行手动完成）\n",
    "- 针对下载的数据进行清洗，只保留英文原文和中文译文，并去除重复项，打乱顺序，将清洗后的原文和译文分别存储于`datas/en_ch_ori_data_processed.txt`与`datas/en_ch_trans_data_processed.txt`文件中"
   ]
  },
  {
   "cell_type": "code",
   "execution_count": 1,
   "metadata": {},
   "outputs": [],
   "source": [
    "import random\n",
    "from Taotie.agent_use import ChatAgent\n",
    "import json\n",
    "import os"
   ]
  },
  {
   "cell_type": "code",
   "execution_count": 2,
   "metadata": {},
   "outputs": [],
   "source": [
    "# 制定下载下的文本数据路径\n",
    "ori_trans_data_path = \"datas/en_ch_trans_data\""
   ]
  },
  {
   "cell_type": "code",
   "execution_count": 3,
   "metadata": {},
   "outputs": [],
   "source": [
    "# 按行读取文件，同时去重\n",
    "def remove_duplicates_from_file(input_file_path):\n",
    "    # This set will store the English sentences we have seen\n",
    "    seen_english_sentences = set()\n",
    "    unique_lines = []\n",
    "\n",
    "    # Read the input file\n",
    "    with open(input_file_path, 'r', encoding='utf-8') as file:\n",
    "        for line in file:\n",
    "            # Each line is expected to have an English sentence followed by its translation, separated by a tab\n",
    "            if '\\t' in line:\n",
    "                english, _ = line.split('\\t', 1)\n",
    "                # Check if the English sentence has already been seen\n",
    "                if english not in seen_english_sentences:\n",
    "                    # If not, add it to the set of seen sentences and keep the line\n",
    "                    seen_english_sentences.add(english)\n",
    "                    unique_lines.append(line)\n",
    "    \n",
    "    # Write the unique lines to the output file\n",
    "    return unique_lines\n",
    "\n",
    "en_ch_trans_data_noreoeated = remove_duplicates_from_file(ori_trans_data_path)"
   ]
  },
  {
   "cell_type": "code",
   "execution_count": 7,
   "metadata": {},
   "outputs": [],
   "source": [
    "# 单独取出原文与译文\n",
    "processed_lines = []\n",
    "\n",
    "for i in range(len(en_ch_trans_data_noreoeated)):\n",
    "    line = en_ch_trans_data_noreoeated[i]\n",
    "    parts = line.strip().split('\\t')\n",
    "    if len(parts) == 4:\n",
    "        original_text = parts[1]  # The original text\n",
    "        trans_text = parts[3]  # The original text\n",
    "        processed_lines.append([original_text,trans_text])"
   ]
  },
  {
   "cell_type": "code",
   "execution_count": null,
   "metadata": {},
   "outputs": [],
   "source": [
    "# 打乱后分别保存\n",
    "random.seed(42)\n",
    "random.shuffle(processed_lines)\n",
    "with open('datas/en_ch_ori_data_processed.txt', 'w', encoding='utf-8') as outfile:\n",
    "    for processed_line in processed_lines:\n",
    "        outfile.write(processed_line[0] + '\\n')\n",
    "\n",
    "with open('datas/en_ch_trans_data_processed.txt', 'w', encoding='utf-8') as outfile:\n",
    "    for processed_line in processed_lines:\n",
    "        outfile.write(processed_line[1] + '\\n')"
   ]
  },
  {
   "attachments": {},
   "cell_type": "markdown",
   "metadata": {},
   "source": [
    "#### 数据准备-2：翻译任务模拟与隐藏层状态搜集"
   ]
  },
  {
   "attachments": {},
   "cell_type": "markdown",
   "metadata": {},
   "source": [
    "在这一阶段，我们借助`chatglm3-6b`的 4bit 量化模型，进行翻译任务模拟，并将每次任务中模型transformer部分的每一次生成的所有隐藏层状态保存下来\n",
    "\n",
    "为什么选择`chatglm3-6b`的4bit量化模型——因为其足够`笨`，较容易模拟出未成功完成任务的情况\n",
    "\n",
    "注意——在运行数据获取代码前，请按照`readme.md`文件中的指引替换chatglm3-6b的本地模型文件，以确保隐藏层状态信息能够正常保存\n",
    "\n",
    "确保`visual_config.json`中的路径正确（`ori_hidden_state_path`路径默认为`THUDM`下的`hid`目录）"
   ]
  },
  {
   "cell_type": "code",
   "execution_count": 4,
   "metadata": {},
   "outputs": [],
   "source": [
    "from config_parse import VisualConfig\n",
    "from Taotie.agent_use import ChatAgent\n",
    "from visual_logger import logger\n",
    "import json\n",
    "from random import randint\n",
    "import os\n",
    "visualconfig = VisualConfig(\"./visual_config.json\")"
   ]
  },
  {
   "cell_type": "code",
   "execution_count": 4,
   "metadata": {},
   "outputs": [],
   "source": [
    "# TaskDataGenerator可以向本地chatglm3-6b批量发送任务请求，并将任务推理过程中的相关数据（对话内容与隐藏层状态参数）保存整理\n",
    "class TaskDataGenerator():\n",
    "    def __init__(self, visualconfig, task_pattern, local_model = \"chatglm3-6b\"):\n",
    "        self.task_pattern = task_pattern\n",
    "        self.model_name = local_model\n",
    "        self.config = visualconfig\n",
    "        self.task_prompts = None\n",
    "        self.text_prompts = None\n",
    "        self.ori_hidden_state_path = self.config.ori_hidden_state_path\n",
    "        self.target_hidden_state_path = os.path.join(os.path.abspath(self.config.save_dir_path), self.task_pattern)\n",
    "        self.processing_text_index = 0\n",
    "        self.agent = ChatAgent(self.model_name)\n",
    "        logger.info('using local model: {self.model_name}')\n",
    "        self.init_prompts()\n",
    "        if not os.path.exists(self.target_hidden_state_path):\n",
    "            os.mkdir(self.target_hidden_state_path)\n",
    "\n",
    "    def start_fetch(self, start_index, end_index):\n",
    "        for i in range(start_index, end_index):\n",
    "            self.processing_text_index = i\n",
    "            self.fetch_one_date()\n",
    "\n",
    "    def fetch_one_date(self):\n",
    "        self.check_ori_hidden_state_path_empty()\n",
    "        # 先随机取一个任务描述作为当前agent的行为准则\n",
    "        tmp_task_prompt = self.get_random_task_prompt()\n",
    "        # self.agent.init_messages_by_sentence(tmp_task_prompt)\n",
    "        # 第一次的初步post\n",
    "        self.agent.prompt_add(tmp_task_prompt)\n",
    "        logger.info(f'Current task prompt: \\t{tmp_task_prompt}')\n",
    "        init_result = self.agent.prompt_post()\n",
    "        logger.info(f'task return: \\t{init_result}')\n",
    "        # 然后是后续的自由发挥\n",
    "\n",
    "        # 然后是第二次的自由发挥\n",
    "        for text in self.text_prompts[self.processing_text_index]:\n",
    "            self.agent.prompt_add(text)\n",
    "            logger.info(f'Next try: \\n{text}')\n",
    "            second_result = self.agent.prompt_post()\n",
    "            logger.info(f'gpt return: \\n{second_result}')\n",
    "        # 整理结果，保存记录\n",
    "        self.task_result_record()\n",
    "        self.hidden_state_move()\n",
    "        # 代理初始化\n",
    "        self.agent.messages = []\n",
    "\n",
    "    def check_ori_hidden_state_path_empty(self):\n",
    "        # 检查self.ori_hidden_state_path文件夹中是否为空\n",
    "        return not os.listdir(self.ori_hidden_state_path)\n",
    "\n",
    "    def hidden_state_move(self):\n",
    "        # 将参数文件移入具体的index对应文件夹中\n",
    "        tmp_full_target_path = os.path.join(self.target_hidden_state_path, f'{str(self.processing_text_index)}')\n",
    "        if not os.path.exists(tmp_full_target_path):\n",
    "            os.makedirs(tmp_full_target_path)\n",
    "        for file in os.listdir(self.ori_hidden_state_path):\n",
    "            os.rename(os.path.join(self.ori_hidden_state_path, file), os.path.join(tmp_full_target_path, file))\n",
    "\n",
    "\n",
    "    def get_random_task_prompt(self):\n",
    "        return self.task_prompts[self.processing_text_index]\n",
    "\n",
    "    def task_result_record(self):\n",
    "        tmp_target_path = os.path.join(self.target_hidden_state_path, str(self.processing_text_index))\n",
    "        if not os.path.exists(tmp_target_path):\n",
    "            os.makedirs(tmp_target_path)\n",
    "        with open(os.path.join(tmp_target_path, 'dialogue.txt'), 'w', encoding='utf-8') as f:\n",
    "            json.dump(self.agent.messages, f,ensure_ascii=False, indent=4)\n",
    "\n",
    "    def init_prompts(self):\n",
    "        with open(self.config.role_setting_prompt_json, 'r', encoding='utf-8') as f:\n",
    "            role_setting_prompts = json.load(f)\n",
    "        self.task_prompts = role_setting_prompts[self.task_pattern]\n",
    "        logger.info(f\"successfully load {str(len(self.task_prompts))} task_prompts of task: {self.task_pattern}\")\n",
    "        self.text_prompts = []\n",
    "        with open(self.config.text_prompt_data_path[self.task_pattern], 'r', encoding='utf-8') as f:\n",
    "            for line in f:\n",
    "                self.text_prompts.append(line.split('\\t'))\n",
    "        logger.info(f\"successfully load {str(len(self.text_prompts))} text_prompts of task: {self.task_pattern}\")\n",
    "    \n",
    "    # 从预设的同一任务的多种任务描述中选取一种作为当前的prompt\n",
    "    def get_random_task_prompt(self):\n",
    "        return self.task_prompts[randint(0, len(self.task_prompts) - 1)]"
   ]
  },
  {
   "cell_type": "code",
   "execution_count": 5,
   "metadata": {},
   "outputs": [
    {
     "name": "stderr",
     "output_type": "stream",
     "text": [
      "2023-11-20 22:43:43,818 - my_logger - INFO - api_base:openai\tllm version: chatglm3-6b\n",
      "2023-11-20 22:43:43,819 - visual_logger - INFO - using local model: {self.model_name}\n",
      "2023-11-20 22:43:43,819 - visual_logger - INFO - successfully load 10 task_prompts of task: translator\n",
      "2023-11-20 22:43:43,860 - visual_logger - INFO - successfully load 63493 text_prompts of task: translator\n",
      "2023-11-20 22:43:43,861 - visual_logger - INFO - Current task prompt: \tYour role is that of a language converter. Take the English sentence 'Sustainable practices are becoming increasingly important in manufacturing' and give me the Chinese equivalent.\n",
      "2023-11-20 22:43:47,903 - visual_logger - INFO - task return: \t\n",
      " 可持续的实践在制造业中变得越来越重要。\n",
      "2023-11-20 22:43:47,903 - visual_logger - INFO - Next try: \n",
      "I have three tickets.\n",
      "\n",
      "2023-11-20 22:43:49,358 - visual_logger - INFO - gpt return: \n",
      "\n",
      " 我有三个单据。\n",
      "2023-11-20 22:43:49,467 - visual_logger - INFO - Current task prompt: \tImagine you're a translation device; your current task is to render English into Chinese. Start with the sentence: 'The new energy vehicle market is booming with potential.'\n",
      "2023-11-20 22:43:51,634 - visual_logger - INFO - task return: \t\n",
      " 新能源汽车市场正在蓬勃发展，具有巨大潜力。\n",
      "2023-11-20 22:43:51,635 - visual_logger - INFO - Next try: \n",
      "Does your salary get put on your pay card on a monthly basis?\n",
      "\n",
      "2023-11-20 22:44:00,815 - visual_logger - INFO - gpt return: \n",
      "\n",
      " 作为一个人工智能语言模型，我没有薪水或工资单，因此我无法回答这个问题。但是，通常情况下，员工的工资会在每个月的特定日期通过银行转账或其他支付方式发放到员工的工资卡上。具体的发放方式和时间可能会因国家、公司或个人的不同而有所不同。\n"
     ]
    }
   ],
   "source": [
    "test_TaskDataGenerator = TaskDataGenerator(visualconfig, task_pattern=\"datas/translator\")\n",
    "# 根据 en_ch_ori_data_processed.txt 文件前1000行文本执行翻译任务\n",
    "test_TaskDataGenerator.start_fetch(0, 2)"
   ]
  },
  {
   "attachments": {},
   "cell_type": "markdown",
   "metadata": {},
   "source": [
    "代码运行结束后，会在`datas/translator`中出现一系列以原文在`en_ch_ori_data_processed.txt`中的行号命名的目录，目录中有两类文件，一类是以时间戳命名的`npz`文件，保存了每一次生成后的29层隐藏层状态，另一为`dialogues.txt`，保存了此次任务的对话信息，后续的数据标签也将保存于该文件中。\n",
    "<br><br>"
   ]
  },
  {
   "attachments": {},
   "cell_type": "markdown",
   "metadata": {},
   "source": [
    "#### 数据准备-3：数据标签标记"
   ]
  },
  {
   "attachments": {},
   "cell_type": "markdown",
   "metadata": {},
   "source": [
    "在这一阶段，我们借助`chatglm_lite` API，为我们的模拟数据集打上标签，成功实现了翻译任务的标记为`0`，未能够成功完成任务的，标记为`1`"
   ]
  },
  {
   "cell_type": "code",
   "execution_count": null,
   "metadata": {},
   "outputs": [],
   "source": [
    "trans_data_dir_path = \"translator\"\n",
    "class trans_tag_adder():\n",
    "    def __init__(self, trans_data_dir_path, model_name):\n",
    "        self.trans_data_dir_path = trans_data_dir_path\n",
    "        self.text_count = 0\n",
    "        self.processing_index = 0\n",
    "        for root, dirs, _ in os.walk(self.trans_data_dir_path):\n",
    "            for dir in dirs:\n",
    "                if os.path.exists(os.path.join(root, dir, \"dialogue.txt\")):\n",
    "                    self.text_count += 1\n",
    "        self.check_trans_agent = ChatAgent(model_name)\n",
    "        self.check_trans_agent.init_messages_by_json(\"datas/trans_checker_ch.json\")\n",
    "\n",
    "    def start_check(self, start_index, end_index):\n",
    "        for index in range(start_index, end_index):\n",
    "            self.processing_index = index\n",
    "            print(f\"processing index:{self.processing_index}\")\n",
    "            self.add_one_tag(self.processing_index)\n",
    "\n",
    "    def add_one_tag(self, index):\n",
    "        dialogue_path = os.path.join(self.trans_data_dir_path, str(index), \"dialogue.txt\")\n",
    "        with open(dialogue_path, 'r', encoding='utf-8') as file:\n",
    "            data_list = json.load(file)\n",
    "            check_flag = self.check_is_correct_tran(data_list[-2][\"content\"],data_list[-1][\"content\"])\n",
    "            write_dict = {\"tag\": check_flag, \"dialogues\": data_list}\n",
    "        print(f\"index-{self.processing_index} judged as {check_flag}\")\n",
    "        with open(dialogue_path, 'w', encoding='utf-8') as file:\n",
    "            json.dump(write_dict, file, ensure_ascii=False, indent=4)\n",
    "\n",
    "    def check_is_correct_tran(self, user_content:str, assistant_content:str):\n",
    "        if self.is_more_than_half_english(assistant_content):\n",
    "            check_flag = \"1\"\n",
    "            print(\"translation too much English.\")\n",
    "            return check_flag\n",
    "        user_content = user_content.replace('\\n', '').replace('\\\\', '')\n",
    "        assistant_content = assistant_content.replace('\\n', '').replace('\\\\', '')\n",
    "        prompt_text = f\"['Original text': '{user_content}', 'Translated text': '{assistant_content}']\"\n",
    "        print(f\"prompt_text:{prompt_text}\")\n",
    "        self.check_trans_agent.prompt_add(prompt_text)\n",
    "        result = self.check_trans_agent.prompt_post(remember_flag=False,T = 0.05)\n",
    "        print(f\"result:{result}\")\n",
    "        if result[0]==\"\\\"\" and result[-1]==\"\\\"\":\n",
    "            result = result[1:-1]\n",
    "        if result.endswith(\"0\") or result.endswith(\"1\"):\n",
    "            return result[-1]\n",
    "        else:\n",
    "            print(f\"index-{self.processing_index}-check failed\")\n",
    "            return f\"check_failed\"\n",
    "        \n",
    "    def is_more_than_half_english(self, s):\n",
    "        english_char_count = sum(1 for char in s if char.isalpha() and char.isascii())\n",
    "        total_char_count = len(s)\n",
    "        # Check if English characters are more than 50%\n",
    "        return english_char_count > total_char_count / 2"
   ]
  },
  {
   "cell_type": "code",
   "execution_count": null,
   "metadata": {},
   "outputs": [],
   "source": [
    "trans_checker = trans_tag_adder(\"datas/translator\",\"chatglm_lite\")\n",
    "trans_checker.start_check(0, 1034)"
   ]
  },
  {
   "attachments": {},
   "cell_type": "markdown",
   "metadata": {},
   "source": [
    "数据以及对应标签准备好后，就可以进行可视化进程了"
   ]
  },
  {
   "attachments": {},
   "cell_type": "markdown",
   "metadata": {},
   "source": [
    "## 数据可视化处理"
   ]
  },
  {
   "attachments": {},
   "cell_type": "markdown",
   "metadata": {},
   "source": [
    "#### 针对当前数据文件结构，设计一个用于取用数据的类"
   ]
  },
  {
   "cell_type": "code",
   "execution_count": 3,
   "metadata": {},
   "outputs": [],
   "source": [
    "import os\n",
    "import json\n",
    "import numpy as np\n",
    "translator_hid_state_data_path = \"./datas/translator-chatglm2-6b\"\n",
    "class HidDataFetch():\n",
    "    def __init__(self, hid_datas_path) -> None:\n",
    "        self.hid_datas_path = hid_datas_path\n",
    "        self.dialogues_num = self.count_dirs(self.hid_datas_path)\n",
    "        print(\"dialogues_num:\", self.dialogues_num)\n",
    "        self.dialogues = []\n",
    "        self.tag_list = []\n",
    "        self.datas = []\n",
    "        self.fetch_all_dialogues()\n",
    "        self.init_tags()\n",
    "        # self.fetch_all_datas()\n",
    "\n",
    "    # 将所有dialogue.txt读取整合\n",
    "    def fetch_all_dialogues(self):\n",
    "        for i in range(self.dialogues_num):\n",
    "            self.dialogues.append(self.load_dialogue_by_index(i))\n",
    "    # 将所有隐藏状态参数读取整合\n",
    "    def fetch_all_datas(self):\n",
    "        for i in range(self.dialogues_num):\n",
    "            self.datas.append(self.load_data_by_index(i))\n",
    "\n",
    "    # 读取对应index的dialogue.txt\n",
    "    def load_dialogue_by_index(self, index):\n",
    "        with open(self.hid_datas_path + \"/\" + str(index) + \"/dialogue.txt\", \"r\", encoding=\"utf-8\") as f:\n",
    "            dialogue = json.load(f)\n",
    "\n",
    "    # 提取出所有的tag\n",
    "    def init_tags(self):\n",
    "        for diagolue in self.dialogues:\n",
    "            self.tag_list.append(diagolue['tag'])\n",
    "\n",
    "    # 统计文件夹中下有多少文件和文件夹\n",
    "    def count_dirs(self, path):\n",
    "        return len(os.listdir(path))\n",
    "    \n",
    "    # 从硬盘中读取对应的dialogue.txt\n",
    "    def load_dialogue_by_index(self, index):\n",
    "        if index >= self.dialogues_num:\n",
    "            print(\"index out of range\")\n",
    "            return None\n",
    "        hid_data_path = os.path.join(self.hid_datas_path, str(index), 'dialogue.txt')\n",
    "        # print(hid_data_path)\n",
    "        hid_data = {}\n",
    "        with open(hid_data_path, 'r', encoding='utf-8') as f:\n",
    "            hid_data = json.load(f)\n",
    "        return hid_data\n",
    "    \n",
    "    # 获取某index对应的完整的dialogue.txt\n",
    "    def fetch_by_index(self, index):\n",
    "        return self.dialogues[index]\n",
    "    \n",
    "    # 获取某index的tag\n",
    "    def fetch_tag_by_index(self, index):\n",
    "        if index >= self.dialogues_num:\n",
    "            print(\"index out of range\")\n",
    "            return None\n",
    "        return self.dialogues[index]['tag']\n",
    "    \n",
    "    # 获取某index对应的完整的对话内容\n",
    "    def fetch_dialogue_by_index(self, index):\n",
    "        if index >= self.dialogues_num:\n",
    "            print(\"index out of range\")\n",
    "            return None\n",
    "        return self.dialogues[index]['dialogues']\n",
    "\n",
    "    # 获取符合某个tag的所有index\n",
    "    def fetch_index_list_by_tag(self, tag):\n",
    "        return [index for index in range(self.dialogues_num) if self.dialogues[index]['tag'] == tag]\n",
    "\n",
    "    # 获取某个index下的所有data\n",
    "    def load_data_by_index(self, index):\n",
    "        data_dir_path = os.path.join(self.hid_datas_path, str(index))\n",
    "        datas = []\n",
    "        for file in sorted(os.listdir(data_dir_path)):\n",
    "            if file.endswith(\".npz\"):\n",
    "                data_path = os.path.join(data_dir_path, file)\n",
    "                data_f = np.load(data_path)\n",
    "                datas.append(np.array(list(data_f.values())))\n",
    "                data_f.close()\n",
    "        return datas\n",
    "    \n",
    "    # 获取某个index下的特定的data\n",
    "    def load_special_data(self, path_index, round, speaker, file_index):\n",
    "        filename = self.get_special_filename(path_index, round, speaker, file_index)\n",
    "        data_dir_path = os.path.join(self.hid_datas_path, str(path_index))\n",
    "        data_path = os.path.join(data_dir_path, filename)\n",
    "        data_f = np.load(data_path)\n",
    "        datas = np.array(list(data_f.values()))\n",
    "        data_f.close()\n",
    "        return datas\n",
    "    \n",
    "    # 获取特定隐藏层的file_index\n",
    "    def get_special_filename(self, path_index, round, speaker, file_index):\n",
    "        data_dir_path = os.path.join(self.hid_datas_path, str(path_index))\n",
    "        filename_list = []\n",
    "        user_filename_list = []\n",
    "        assistant_filename_list = []\n",
    "        tmp_round = 0\n",
    "        for file in sorted(os.listdir(data_dir_path)):\n",
    "            if file.endswith(\".npz\"):\n",
    "                filename_list.append(file)\n",
    "        base_size = os.path.getsize(os.path.join(data_dir_path, filename_list[1]))\n",
    "        for file in filename_list:\n",
    "            file_size = os.path.getsize(os.path.join(data_dir_path, file))\n",
    "            if file_size > base_size:\n",
    "                user_filename_list.append([file])\n",
    "                tmp_round = tmp_round + 1\n",
    "            else:\n",
    "                if tmp_round > len(assistant_filename_list): \n",
    "                    assistant_filename_list.append([file])\n",
    "                else:\n",
    "                    assistant_filename_list[tmp_round-1].append(file)\n",
    "        if speaker == \"user\":\n",
    "            return user_filename_list[round][file_index]\n",
    "        elif speaker == \"assistant\":\n",
    "            return assistant_filename_list[round][file_index]\n",
    "        else:\n",
    "            return 0\n",
    "    \n",
    "    # 获取user输入文本开始对应的index\n",
    "    def get_use_text_index_by_index(self, index):\n",
    "        user_index_list = [index for index, element in enumerate(self.load_data_by_index(index)) if element.shape[1] > 1]\n",
    "        return user_index_list\n",
    "        \n",
    "        \n",
    "\n"
   ]
  },
  {
   "attachments": {},
   "cell_type": "markdown",
   "metadata": {},
   "source": [
    "#### 加载数据"
   ]
  },
  {
   "cell_type": "code",
   "execution_count": 4,
   "metadata": {},
   "outputs": [
    {
     "name": "stdout",
     "output_type": "stream",
     "text": [
      "dialogues_num: 1034\n"
     ]
    }
   ],
   "source": [
    "data_fetcher = HidDataFetch(translator_hid_state_data_path)"
   ]
  },
  {
   "attachments": {},
   "cell_type": "markdown",
   "metadata": {},
   "source": [
    "#### 查看一下几类数据的分布"
   ]
  },
  {
   "cell_type": "code",
   "execution_count": 5,
   "metadata": {},
   "outputs": [
    {
     "name": "stdout",
     "output_type": "stream",
     "text": [
      "翻译有问题的情况有182个\n",
      "翻译正确的情况有844个\n",
      "原文以问号结尾的问题的情况有127个\n",
      "翻译有错误，但是原文不是问题的情况有100个\n"
     ]
    }
   ],
   "source": [
    "tag_wrong_trans_index_list = data_fetcher.fetch_index_list_by_tag(\"1\")\n",
    "tag_correct_trans_index_list = data_fetcher.fetch_index_list_by_tag(\"0\")\n",
    "ori_question_index_list = [index for index in range(data_fetcher.dialogues_num) if data_fetcher.dialogues[index]['dialogues'][-2]['content'][-2] == \"?\"]\n",
    "no_qes_and_wrong_trans_index_list = [index for index in tag_wrong_trans_index_list if index not in ori_question_index_list]\n",
    "print(f\"翻译有问题的情况有{len(tag_wrong_trans_index_list)}个\\n翻译正确的情况有{len(tag_correct_trans_index_list)}个\")\n",
    "print(f\"原文以问号结尾的问题的情况有{len(ori_question_index_list)}个\")\n",
    "print(f\"翻译有错误，但是原文不是问题的情况有{len(no_qes_and_wrong_trans_index_list)}个\")"
   ]
  },
  {
   "cell_type": "code",
   "execution_count": 6,
   "metadata": {},
   "outputs": [],
   "source": [
    "#分别选取100个正例和100个反例\n",
    "h1_no_qes_and_wrong_trans_index_list = no_qes_and_wrong_trans_index_list[:100]\n",
    "h1_tag_correct_trans_index_list = tag_correct_trans_index_list[:100]"
   ]
  },
  {
   "attachments": {},
   "cell_type": "markdown",
   "metadata": {},
   "source": [
    "#### 查看一个典型正例和一个典型反例"
   ]
  },
  {
   "cell_type": "code",
   "execution_count": 7,
   "metadata": {},
   "outputs": [
    {
     "name": "stdout",
     "output_type": "stream",
     "text": [
      "first 5 obey:[0, 2, 3, 5, 6]\n",
      "first 5 disobey:[4, 11, 37, 38, 51]\n"
     ]
    }
   ],
   "source": [
    "print(f\"first 5 obey:{str(tag_correct_trans_index_list[:5])}\")\n",
    "print(f\"first 5 disobey:{str(no_qes_and_wrong_trans_index_list[:5])}\")"
   ]
  },
  {
   "cell_type": "code",
   "execution_count": 8,
   "metadata": {},
   "outputs": [
    {
     "data": {
      "text/plain": [
       "[{'role': 'user',\n",
       "  'content': \"You've been designated as a language translator. Please translate the following into Chinese: 'The entrepreneur's keynote speech was truly inspiring and visionary.'\"},\n",
       " {'role': 'assistant', 'content': '\\n 创业者的演讲真正令人鼓舞和具有远见。'},\n",
       " {'role': 'user', 'content': 'While I breathe, I hope.\\n'},\n",
       " {'role': 'assistant', 'content': '\\n 在我呼吸的时候，我希望。'}]"
      ]
     },
     "execution_count": 8,
     "metadata": {},
     "output_type": "execute_result"
    }
   ],
   "source": [
    "data_fetcher.fetch_dialogue_by_index(6)"
   ]
  },
  {
   "cell_type": "code",
   "execution_count": 9,
   "metadata": {},
   "outputs": [
    {
     "data": {
      "text/plain": [
       "[{'role': 'user',\n",
       "  'content': \"Your role is that of a language converter. Take the English sentence 'Sustainable practices are becoming increasingly important in manufacturing' and give me the Chinese equivalent.\"},\n",
       " {'role': 'assistant', 'content': '\\n 可持续的实践在制造业中变得越来越重要'},\n",
       " {'role': 'user', 'content': 'This is a difficult math problem.\\n'},\n",
       " {'role': 'assistant',\n",
       "  'content': \"\\n I\\\\'m sorry, but I am not able to solve math problems. I am a language model designed to assist with general knowledge and information, as well as provide definitions for words and phrases. If you have a specific math problem that you would like help with, it would be best to seek assistance from a qualified math teacher or tutor.\"}]"
      ]
     },
     "execution_count": 9,
     "metadata": {},
     "output_type": "execute_result"
    }
   ],
   "source": [
    "data_fetcher.fetch_dialogue_by_index(51)"
   ]
  },
  {
   "cell_type": "code",
   "execution_count": 10,
   "metadata": {},
   "outputs": [
    {
     "data": {
      "text/plain": [
       "(29, 1, 1, 4096)"
      ]
     },
     "execution_count": 10,
     "metadata": {},
     "output_type": "execute_result"
    }
   ],
   "source": [
    "#### assistant最后一次回答开始后的state\n",
    "data_fetcher.load_data_by_index(6)[data_fetcher.get_use_text_index_by_index(6)[1]+1].shape"
   ]
  },
  {
   "cell_type": "code",
   "execution_count": 16,
   "metadata": {},
   "outputs": [
    {
     "data": {
      "text/plain": [
       "'hidden_states_20231120_224348218.npz'"
      ]
     },
     "execution_count": 16,
     "metadata": {},
     "output_type": "execute_result"
    }
   ],
   "source": [
    "data_fetcher.get_special_filename(0,-1,'assistant',0)"
   ]
  },
  {
   "cell_type": "code",
   "execution_count": 17,
   "metadata": {},
   "outputs": [
    {
     "data": {
      "text/plain": [
       "(29, 1, 4096)"
      ]
     },
     "execution_count": 17,
     "metadata": {},
     "output_type": "execute_result"
    }
   ],
   "source": [
    "#### 我们只使用最后一层transformer的隐藏层输出\n",
    "data_fetcher.load_special_data(1,-1,'user',0)[:, -1, :, :].shape"
   ]
  },
  {
   "cell_type": "code",
   "execution_count": 28,
   "metadata": {},
   "outputs": [
    {
     "data": {
      "text/plain": [
       "(29, 71, 1, 4096)"
      ]
     },
     "execution_count": 28,
     "metadata": {},
     "output_type": "execute_result"
    }
   ],
   "source": [
    "data_fetcher.load_data_by_index(95)[0].shape"
   ]
  },
  {
   "attachments": {},
   "cell_type": "markdown",
   "metadata": {},
   "source": [
    "#### 获取目标数据"
   ]
  },
  {
   "attachments": {},
   "cell_type": "markdown",
   "metadata": {},
   "source": [
    "在这里，我们首先尝试获取了所有任务中，用户将最后一次任务完整输入后，最后一层transformer隐藏层的输出。"
   ]
  },
  {
   "cell_type": "code",
   "execution_count": 11,
   "metadata": {},
   "outputs": [
    {
     "name": "stdout",
     "output_type": "stream",
     "text": [
      "Progress: 99.61% Complete (1030/1034)\n"
     ]
    }
   ],
   "source": [
    "from concurrent.futures import ThreadPoolExecutor, as_completed\n",
    "from IPython.display import clear_output\n",
    "\n",
    "def process_data(i):\n",
    "    # tmp_data = data_fetcher.load_data_by_index(i)[second_assistant_start_index].reshape(29, 4096)\n",
    "    # tmp_data = data_fetcher.load_special_data(i,-1,'assistant',0).reshape(29, 4096)\n",
    "    # 用户最后一次任务输入之后的所有transformer隐藏层输出\n",
    "    tmp_data = data_fetcher.load_special_data(i,-1,'user',0)[:, -1, :, :].reshape(29, 4096)\n",
    "\n",
    "    tmp_label = str(data_fetcher.fetch_tag_by_index(i))\n",
    "    return i, tmp_data, tmp_label  # 返回索引和数据\n",
    "\n",
    "# 初始化列表\n",
    "datas = [None] * len(data_fetcher.dialogues)\n",
    "labels = [None] * len(data_fetcher.dialogues)\n",
    "count = 0\n",
    "with ThreadPoolExecutor(max_workers=64) as executor:\n",
    "    futures = [executor.submit(process_data, i) for i in range(len(data_fetcher.dialogues))]\n",
    "    # for future in as_completed(futures):\n",
    "    #     i, tmp_data, tmp_label = future.result()\n",
    "    #     datas[i] = tmp_data  # 使用索引直接插入到正确的位置\n",
    "    #     labels[i] = tmp_label\n",
    "    #     count = count+1\n",
    "    #     print(count)\n",
    "\n",
    "    total_dialogues = len(data_fetcher.dialogues)\n",
    "    for future in as_completed(futures):\n",
    "        i, tmp_data, tmp_label = future.result()\n",
    "        datas[i] = tmp_data  # Use the index to insert at the correct position\n",
    "        labels[i] = tmp_label\n",
    "        count += 1\n",
    "        # Calculate the percentage of completion\n",
    "        percent_complete = (count / total_dialogues) * 100\n",
    "        # Print the real-time percentage progress\n",
    "        if count % 10 == 0:\n",
    "            clear_output(wait=True)\n",
    "            print(f\"Progress: {percent_complete:.2f}% Complete ({count}/{total_dialogues})\")\n",
    "\n",
    "\n"
   ]
  },
  {
   "cell_type": "code",
   "execution_count": 12,
   "metadata": {},
   "outputs": [],
   "source": [
    "# 只取最后一层隐藏层输出\n",
    "datas_layer29 = np.array([data[28] for data in datas])"
   ]
  },
  {
   "cell_type": "code",
   "execution_count": 13,
   "metadata": {},
   "outputs": [],
   "source": [
    "# 获取labels，没能够成功识别的，默认为正确完成翻译任务\n",
    "labels_int = np.array([int(y) if y=='0' or y=='1' else 0  for y in labels])"
   ]
  },
  {
   "attachments": {},
   "cell_type": "markdown",
   "metadata": {},
   "source": [
    "#### 尝试t-SNE降维到三维"
   ]
  },
  {
   "cell_type": "code",
   "execution_count": 14,
   "metadata": {},
   "outputs": [
    {
     "data": {
      "image/png": "[encoded data removed]",
      "text/plain": [
       "<Figure size 640x480 with 1 Axes>"
      ]
     },
     "metadata": {},
     "output_type": "display_data"
    }
   ],
   "source": [
    "import numpy as np\n",
    "from sklearn.manifold import TSNE\n",
    "import matplotlib.pyplot as plt\n",
    "from mpl_toolkits.mplot3d import Axes3D\n",
    "plt.rcParams['font.sans-serif']=['SimHei'] # 设置字体为黑体，解决Matplotlib中文乱码问题\n",
    "\n",
    "plt.rcParams['axes.unicode_minus']=False # 解决Matplotlib坐标轴负号'-'显示为方块的问题\n",
    "\n",
    "# 假设您的输入数据是一个名为data的numpy数组，形状是(29, 4096)\n",
    "# 假设labels是标签数组\n",
    "\n",
    "# 应用t-SNE降维到三维\n",
    "tsne = TSNE(n_components=3, random_state=42)\n",
    "data_tsne = tsne.fit_transform(np.array(datas_layer29))\n",
    "\n",
    "# 可视化\n",
    "fig = plt.figure()\n",
    "ax = fig.add_subplot(111, projection='3d')\n",
    "\n",
    "# 假设您有两个标签类别，用0和1表示\n",
    "ax.scatter(data_tsne[labels_int == 0, 0], data_tsne[labels_int == 0, 1], data_tsne[labels_int == 0, 2], c='r', s=1,label='类别0')\n",
    "ax.scatter(data_tsne[labels_int == 1, 0], data_tsne[labels_int == 1, 1], data_tsne[labels_int == 1, 2], c='b', s=1,label='类别1')\n",
    "\n",
    "plt.xlim(-100, 50)\n",
    "plt.ylim(-100, 100)\n",
    "ax.set_zlim(-100, 100)\n",
    "\n",
    "ax.set_xlabel('X Label')\n",
    "ax.set_ylabel('Y Label')\n",
    "ax.set_zlabel('Z Label')\n",
    "ax.legend()\n",
    "\n",
    "plt.show()"
   ]
  },
  {
   "cell_type": "code",
   "execution_count": 68,
   "metadata": {},
   "outputs": [
    {
     "data": {
      "text/plain": [
       "1034"
      ]
     },
     "execution_count": 68,
     "metadata": {},
     "output_type": "execute_result"
    }
   ],
   "source": [
    "len(datas_layer29)"
   ]
  },
  {
   "cell_type": "code",
   "execution_count": 33,
   "metadata": {},
   "outputs": [],
   "source": [
    "# 统计labels_int中0的个数和1的个数\n",
    "nums_0 = len(labels_int[labels_int==0])\n",
    "nums_1 = len(labels_int[labels_int==1])"
   ]
  },
  {
   "attachments": {},
   "cell_type": "markdown",
   "metadata": {},
   "source": [
    "#### 应用t-SNE降维到三维"
   ]
  },
  {
   "cell_type": "code",
   "execution_count": 9,
   "metadata": {},
   "outputs": [],
   "source": [
    "# 自由视角的三维图\n",
    "import plotly.express as px\n",
    "import numpy as np\n",
    "import pandas as pd\n",
    "from sklearn.manifold import TSNE\n",
    "\n",
    "# 假设您的输入数据是一个名为data的numpy数组，形状是(29, 4096)\n",
    "# 假设labels是标签数组\n",
    "\n",
    "# 应用t-SNE降维到三维\n",
    "tsne = TSNE(n_components=3, perplexity=30, random_state=42)\n",
    "data_tsne = tsne.fit_transform(datas_layer29)\n",
    "\n",
    "# 将降维后的数据和标签转换为DataFrame\n",
    "df = pd.DataFrame(data_tsne, columns=['x', 'y', 'z'])\n",
    "df['label'] = labels_int  # 添加标签列\n",
    "\n",
    "# 创建一个颜色映射字典，这里0对应红色，1对应蓝色\n",
    "color_map = {0: 'blue', 1: 'red'}\n",
    "\n",
    "# 将标签数组映射到颜色\n",
    "colors = [color_map[label] for label in labels_int]\n",
    "\n",
    "# 使用Plotly创建交互式三维散点图\n",
    "fig = px.scatter_3d(df, x='x', y='y', z='z',\n",
    "                    color=colors, labels={'label': 'Label'},\n",
    "                    title='t-SNE 3D Visualization')\n",
    "fig.update_traces(marker=dict(size=3))\n",
    "# fig.show()\n",
    "fig.show(renderer=\"browser\")"
   ]
  },
  {
   "attachments": {},
   "cell_type": "markdown",
   "metadata": {},
   "source": [
    "#### 应用主成分分析（PCA）降维到三维"
   ]
  },
  {
   "cell_type": "code",
   "execution_count": 15,
   "metadata": {},
   "outputs": [],
   "source": [
    "import plotly.express as px\n",
    "import numpy as np\n",
    "import pandas as pd\n",
    "from sklearn.decomposition import PCA\n",
    "\n",
    "# 假设您的输入数据是一个名为datas_layer29的numpy数组，形状是(29, 4096)\n",
    "# 假设labels_int是标签数组\n",
    "\n",
    "# 应用PCA降维到三维\n",
    "pca = PCA(n_components=3, random_state=42)\n",
    "data_pca = pca.fit_transform(datas_layer29)\n",
    "\n",
    "# 将降维后的数据和标签转换为DataFrame\n",
    "df = pd.DataFrame(data_pca, columns=['x', 'y', 'z'])\n",
    "df['label'] = labels_int  # 添加标签列\n",
    "\n",
    "# 创建一个颜色映射字典，这里0对应红色，1对应蓝色\n",
    "color_map = {0: 'obey', 1: 'disobey'}\n",
    "# color_map = {0: 'blue', 1: 'red'}\n",
    "# 将标签数组映射到颜色\n",
    "colors = [color_map[label] for label in labels_int]\n",
    "\n",
    "# 使用Plotly创建交互式三维散点图\n",
    "fig = px.scatter_3d(df, x='x', y='y', z='z',\n",
    "                    color=colors, labels={'label': 'Label'},\n",
    "                    # color_discrete_map=color_map,\n",
    "                    title='PCA 3D Visualization')\n",
    "fig.update_traces(marker=dict(size=3))\n",
    "# fig.show()\n",
    "fig.show(renderer=\"browser\")\n"
   ]
  },
  {
   "attachments": {},
   "cell_type": "markdown",
   "metadata": {},
   "source": [
    "#### 应用多维缩放（MDS）降维到三维"
   ]
  },
  {
   "cell_type": "code",
   "execution_count": 11,
   "metadata": {},
   "outputs": [
    {
     "name": "stderr",
     "output_type": "stream",
     "text": [
      "d:\\Anaconda3\\envs\\data_analyse\\lib\\site-packages\\sklearn\\manifold\\_mds.py:298: FutureWarning:\n",
      "\n",
      "The default value of `normalized_stress` will change to `'auto'` in version 1.4. To suppress this warning, manually set the value of `normalized_stress`.\n",
      "\n"
     ]
    }
   ],
   "source": [
    "import plotly.express as px\n",
    "import numpy as np\n",
    "import pandas as pd\n",
    "from sklearn.manifold import MDS\n",
    "\n",
    "# 假设您的输入数据是一个名为datas_layer29的numpy数组，形状是(29, 4096)\n",
    "# 假设labels_int是标签数组\n",
    "\n",
    "# 应用MDS降维到三维\n",
    "mds = MDS(n_components=3, random_state=42)\n",
    "data_mds = mds.fit_transform(datas_layer29)\n",
    "\n",
    "# 将降维后的数据和标签转换为DataFrame\n",
    "df = pd.DataFrame(data_mds, columns=['x', 'y', 'z'])\n",
    "df['label'] = labels_int  # 添加标签列\n",
    "\n",
    "# 创建一个颜色映射字典，这里0对应红色，1对应蓝色\n",
    "color_map = {0: 'blue', 1: 'red'}\n",
    "\n",
    "# 将标签数组映射到颜色\n",
    "colors = [color_map[label] for label in labels_int]\n",
    "\n",
    "# 使用Plotly创建交互式三维散点图\n",
    "fig = px.scatter_3d(df, x='x', y='y', z='z',\n",
    "                    color=colors, labels={'label': 'Label'},\n",
    "                    title='MDS 3D Visualization')\n",
    "fig.update_traces(marker=dict(size=3))\n",
    "# fig.show()\n",
    "fig.show(renderer=\"browser\")"
   ]
  },
  {
   "cell_type": "code",
   "execution_count": 75,
   "metadata": {},
   "outputs": [
    {
     "data": {
      "image/png": "[encoded data removed]",
      "text/plain": [
       "<Figure size 640x480 with 1 Axes>"
      ]
     },
     "metadata": {},
     "output_type": "display_data"
    }
   ],
   "source": [
    "import numpy as np\n",
    "from sklearn.manifold import TSNE\n",
    "import matplotlib.pyplot as plt\n",
    "\n",
    "\n",
    "# 应用t-SNE降维到二维\n",
    "tsne = TSNE(n_components=2, random_state=42)\n",
    "data_tsne = tsne.fit_transform(np.array(datas_layer29))\n",
    "\n",
    "# 可视化\n",
    "fig, ax = plt.subplots()\n",
    "\n",
    "# 假设您有两个标签类别，用0和1表示\n",
    "ax.scatter(data_tsne[labels_int == 0, 0], data_tsne[labels_int == 0, 1], c='r', s=1, label='类别0')\n",
    "ax.scatter(data_tsne[labels_int == 1, 0], data_tsne[labels_int == 1, 1], c='b', s=1, label='类别1')\n",
    "\n",
    "ax.set_xlabel('X Label')\n",
    "ax.set_ylabel('Y Label')\n",
    "ax.legend()\n",
    "\n",
    "plt.show()"
   ]
  },
  {
   "cell_type": "code",
   "execution_count": 66,
   "metadata": {},
   "outputs": [
    {
     "data": {
      "text/plain": [
       "list"
      ]
     },
     "execution_count": 66,
     "metadata": {},
     "output_type": "execute_result"
    }
   ],
   "source": [
    "type(labels_int)"
   ]
  },
  {
   "cell_type": "code",
   "execution_count": 64,
   "metadata": {},
   "outputs": [
    {
     "data": {
      "text/plain": [
       "array([], shape=(0, 1034, 3), dtype=float32)"
      ]
     },
     "execution_count": 64,
     "metadata": {},
     "output_type": "execute_result"
    }
   ],
   "source": [
    "data_tsne[labels_int == 0, 0]"
   ]
  }
 ],
 "metadata": {
  "kernelspec": {
   "display_name": "base",
   "language": "python",
   "name": "python3"
  },
  "language_info": {
   "codemirror_mode": {
    "name": "ipython",
    "version": 3
   },
   "file_extension": ".py",
   "mimetype": "text/x-python",
   "name": "python",
   "nbconvert_exporter": "python",
   "pygments_lexer": "ipython3",
   "version": "3.10.13"
  },
  "orig_nbformat": 4
 },
 "nbformat": 4,
 "nbformat_minor": 2
}
