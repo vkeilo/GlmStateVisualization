{
 "cells": [
  {
   "cell_type": "code",
   "execution_count": null,
   "metadata": {},
   "outputs": [],
   "source": []
  },
  {
   "attachments": {},
   "cell_type": "markdown",
   "metadata": {},
   "source": [
    "## 翻译文本的预处理"
   ]
  },
  {
   "cell_type": "code",
   "execution_count": 1,
   "metadata": {},
   "outputs": [],
   "source": [
    "# dataset from Tatoeba\n",
    "ori_trans_data_path = \"en_ch_trans_data\""
   ]
  },
  {
   "attachments": {},
   "cell_type": "markdown",
   "metadata": {},
   "source": [
    "#### 首先去重"
   ]
  },
  {
   "cell_type": "code",
   "execution_count": 2,
   "metadata": {},
   "outputs": [],
   "source": [
    "# 首先去重\n",
    "def remove_duplicates_from_file(input_file_path):\n",
    "    # This set will store the English sentences we have seen\n",
    "    seen_english_sentences = set()\n",
    "    unique_lines = []\n",
    "\n",
    "    # Read the input file\n",
    "    with open(input_file_path, 'r', encoding='utf-8') as file:\n",
    "        for line in file:\n",
    "            # Each line is expected to have an English sentence followed by its translation, separated by a tab\n",
    "            if '\\t' in line:\n",
    "                english, _ = line.split('\\t', 1)\n",
    "                # Check if the English sentence has already been seen\n",
    "                if english not in seen_english_sentences:\n",
    "                    # If not, add it to the set of seen sentences and keep the line\n",
    "                    seen_english_sentences.add(english)\n",
    "                    unique_lines.append(line)\n",
    "    \n",
    "    # Write the unique lines to the output file\n",
    "    return unique_lines\n",
    "\n",
    "# Example file paths\n",
    "input_file_path = 'en_ch_trans_data'\n",
    "en_ch_trans_data_noreoeated = remove_duplicates_from_file(input_file_path)"
   ]
  },
  {
   "attachments": {},
   "cell_type": "markdown",
   "metadata": {},
   "source": [
    "#### 然后单独取出原文和译文"
   ]
  },
  {
   "cell_type": "code",
   "execution_count": 3,
   "metadata": {},
   "outputs": [],
   "source": [
    "processed_lines = []\n",
    "\n",
    "for i in range(len(en_ch_trans_data_noreoeated)):\n",
    "    line = en_ch_trans_data_noreoeated[i]\n",
    "    parts = line.strip().split('\\t')\n",
    "    if len(parts) == 4:\n",
    "        original_text = parts[1]  # The original text\n",
    "        trans_text = parts[3]  # The original text\n",
    "        processed_lines.append([original_text,trans_text])\n",
    "\n",
    "\n"
   ]
  },
  {
   "attachments": {},
   "cell_type": "markdown",
   "metadata": {},
   "source": [
    "#### 再就是打乱它们"
   ]
  },
  {
   "cell_type": "code",
   "execution_count": 4,
   "metadata": {},
   "outputs": [],
   "source": [
    "import random\n",
    "random.shuffle(processed_lines)"
   ]
  },
  {
   "attachments": {},
   "cell_type": "markdown",
   "metadata": {},
   "source": [
    "#### 最后保存下来"
   ]
  },
  {
   "cell_type": "code",
   "execution_count": 6,
   "metadata": {},
   "outputs": [],
   "source": [
    "# Write the processed lines to a new file\n",
    "\n",
    "with open('en_ch_ori_data_processed.txt', 'w', encoding='utf-8') as outfile:\n",
    "    for processed_line in processed_lines:\n",
    "        outfile.write(processed_line[0] + '\\n')\n",
    "\n",
    "with open('en_ch_trans_data_processed.txt', 'w', encoding='utf-8') as outfile:\n",
    "    for processed_line in processed_lines:\n",
    "        outfile.write(processed_line[1] + '\\n')"
   ]
  },
  {
   "attachments": {},
   "cell_type": "markdown",
   "metadata": {},
   "source": []
  }
 ],
 "metadata": {
  "kernelspec": {
   "display_name": "base",
   "language": "python",
   "name": "python3"
  },
  "language_info": {
   "codemirror_mode": {
    "name": "ipython",
    "version": 3
   },
   "file_extension": ".py",
   "mimetype": "text/x-python",
   "name": "python",
   "nbconvert_exporter": "python",
   "pygments_lexer": "ipython3",
   "version": "3.10.9"
  },
  "orig_nbformat": 4
 },
 "nbformat": 4,
 "nbformat_minor": 2
}
